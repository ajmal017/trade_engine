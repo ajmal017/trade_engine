{
 "cells": [
  {
   "cell_type": "markdown",
   "metadata": {},
   "source": [
    "This note book is to do experiment on building main contracts based on open interest"
   ]
  },
  {
   "cell_type": "markdown",
   "metadata": {},
   "source": [
    "# Check day bar data for all the symbol roots"
   ]
  },
  {
   "cell_type": "code",
   "execution_count": 1,
   "metadata": {},
   "outputs": [],
   "source": [
    "import glob\n",
    "import os"
   ]
  },
  {
   "cell_type": "code",
   "execution_count": 2,
   "metadata": {},
   "outputs": [],
   "source": [
    "data_folder_path = r\"D:\\data\\iqfeed\\future\\future_data_day\""
   ]
  },
  {
   "cell_type": "code",
   "execution_count": 3,
   "metadata": {},
   "outputs": [],
   "source": [
    "data_path_list = glob.glob(os.path.join(data_folder_path, \"*.csv\"))"
   ]
  },
  {
   "cell_type": "code",
   "execution_count": 4,
   "metadata": {},
   "outputs": [],
   "source": [
    "iqfeed_symbol_list = [os.path.basename(path)[:-8] for path in data_path_list if \"#\"not in path]"
   ]
  },
  {
   "cell_type": "code",
   "execution_count": 5,
   "metadata": {},
   "outputs": [],
   "source": [
    "iqfeed_symbol_root_list = [symbol[:-1] for symbol in iqfeed_symbol_list]"
   ]
  },
  {
   "cell_type": "code",
   "execution_count": 6,
   "metadata": {},
   "outputs": [],
   "source": [
    "iqfeed_symbol_root_list = list(set(iqfeed_symbol_root_list))"
   ]
  },
  {
   "cell_type": "code",
   "execution_count": 7,
   "metadata": {},
   "outputs": [
    {
     "data": {
      "text/plain": [
       "['@CC',\n",
       " '@SB',\n",
       " '@ES',\n",
       " '@YC',\n",
       " '@QM',\n",
       " 'IHO',\n",
       " '@DA',\n",
       " '@QG',\n",
       " '@OJ',\n",
       " '@QO',\n",
       " '@MES',\n",
       " 'QGC',\n",
       " 'QMGC',\n",
       " '@KC',\n",
       " '@MYM',\n",
       " '@NQ',\n",
       " '@RTY',\n",
       " '@M2K',\n",
       " '@YM',\n",
       " '@QC',\n",
       " '@MNQ',\n",
       " '@CT']"
      ]
     },
     "execution_count": 7,
     "metadata": {},
     "output_type": "execute_result"
    }
   ],
   "source": [
    "iqfeed_symbol_root_list"
   ]
  },
  {
   "cell_type": "markdown",
   "metadata": {},
   "source": [
    "# check missing data for day bar"
   ]
  },
  {
   "cell_type": "code",
   "execution_count": 8,
   "metadata": {},
   "outputs": [],
   "source": [
    "import pandas as pd\n",
    "symbol_meta_frame = pd.read_csv(r\"E:\\project\\trade_engine\\iqfeed_data_processor\\futures_to_import.csv\")"
   ]
  },
  {
   "cell_type": "code",
   "execution_count": 9,
   "metadata": {},
   "outputs": [],
   "source": [
    "all_symbols_list = symbol_meta_frame.loc[:, \"symbol_roots\"].tolist()"
   ]
  },
  {
   "cell_type": "code",
   "execution_count": 10,
   "metadata": {},
   "outputs": [
    {
     "data": {
      "text/plain": [
       "['@CL']"
      ]
     },
     "execution_count": 10,
     "metadata": {},
     "output_type": "execute_result"
    }
   ],
   "source": [
    "[a for a in all_symbols_list if a not in iqfeed_symbol_root_list]"
   ]
  },
  {
   "cell_type": "code",
   "execution_count": 11,
   "metadata": {},
   "outputs": [
    {
     "data": {
      "text/plain": [
       "[]"
      ]
     },
     "execution_count": 11,
     "metadata": {},
     "output_type": "execute_result"
    }
   ],
   "source": [
    "[a for a in iqfeed_symbol_root_list if a not in all_symbols_list]"
   ]
  },
  {
   "cell_type": "code",
   "execution_count": 190,
   "metadata": {},
   "outputs": [
    {
     "name": "stdout",
     "output_type": "stream",
     "text": [
      "@CT\n",
      "@KC\n",
      "@YC\n",
      "@MES\n",
      "@QM\n",
      "@NQ\n",
      "@QO\n",
      "@ES\n",
      "@QG\n",
      "@M2K\n",
      "QGC\n",
      "@DA\n",
      "@CC\n",
      "@QC\n",
      "@MNQ\n",
      "@OJ\n",
      "IHO\n",
      "@RTY\n",
      "@MYM\n",
      "@SB\n",
      "@YM\n",
      "QMGC\n"
     ]
    }
   ],
   "source": [
    "for symbol_root in iqfeed_symbol_root_list:\n",
    "    print(symbol_root)\n",
    "    # According to symbol meta frame, figure out the ib symbol root\n",
    "    ib_symbol_root = symbol_meta_frame[symbol_meta_frame[\"symbol_roots\"] == symbol_root].loc[:,\"symbol_ib_roots\"].iloc[0]\n",
    "    symbols_path_list = [path for path in data_path_list if (symbol_root in path and \"#\" not in path)]\n",
    "    # combine all of the sub symbols frames into one frame\n",
    "    one_symbol_combined_frame = pd.DataFrame()\n",
    "    for path in symbols_path_list:\n",
    "        frame = pd.read_csv(path)\n",
    "\n",
    "        # According to iqfeed day bar data path string, figure out the iqfeed symbol root\n",
    "        symbol = os.path.basename(path)[:-6]\n",
    "        symbol_sub_code = os.path.basename(path)[-9:-6]\n",
    "        symbol_root = os.path.basename(path)[:-9]\n",
    "\n",
    "        # find the corresponding ib_symbol. ib_symbol has the same sub code compared to iqfeed symbol\n",
    "        ib_symbol = \"\".join([ib_symbol_root, symbol_sub_code])\n",
    "        frame.columns = [\"datetime\", \"open\", \"high\", \"low\", \"close\", \"volume\", \"open_interest\"]\n",
    "        datetime_format = '%Y%m%d %H:%M:%S'\n",
    "        frame['datetime'] = pd.to_datetime(frame['datetime'], format=datetime_format)\n",
    "        float_columns = ['open', 'high', 'low', 'close', 'volume', 'open_interest']\n",
    "        for col in float_columns:\n",
    "            frame.loc[:, col] = frame[col].astype('float')\n",
    "        frame.loc[:, \"symbol\"] = ib_symbol\n",
    "        # We should use the open interest of last day to determine the main contract\n",
    "        frame.loc[:, \"last_open_interest\"] = frame.loc[:, \"open_interest\"].shift(1).fillna(0.0) \n",
    "        one_symbol_combined_frame = pd.concat([one_symbol_combined_frame, frame])\n",
    "\n",
    "    one_symbol_combined_frame = one_symbol_combined_frame.reset_index(drop=True)\n",
    "    one_symbol_combined_frame = one_symbol_combined_frame.sort_values(by=[\"datetime\", \"last_open_interest\", \"open_interest\"], axis=0)\n",
    "    one_symbol_combined_frame = one_symbol_combined_frame.drop_duplicates(subset=\"datetime\", keep=\"last\")\n",
    "\n",
    "    one_symbol_combined_frame.to_csv(ib_symbol_root + \".csv\", index=False)"
   ]
  },
  {
   "cell_type": "code",
   "execution_count": 12,
   "metadata": {},
   "outputs": [
    {
     "name": "stdout",
     "output_type": "stream",
     "text": [
      "@SB\n"
     ]
    }
   ],
   "source": [
    "symbol_root = \"@SB\"\n",
    "print(symbol_root)\n",
    "# According to symbol meta frame, figure out the ib symbol root\n",
    "ib_symbol_root = symbol_meta_frame[symbol_meta_frame[\"symbol_roots\"] == symbol_root].loc[:,\"symbol_ib_roots\"].iloc[0]\n",
    "symbols_path_list = [path for path in data_path_list if (symbol_root in path and \"#\" not in path)]\n",
    "# combine all of the sub symbols frames into one frame\n",
    "one_symbol_combined_frame = pd.DataFrame()\n",
    "for path in symbols_path_list:\n",
    "    frame = pd.read_csv(path)\n",
    "\n",
    "    # According to iqfeed day bar data path string, figure out the iqfeed symbol root\n",
    "    symbol = os.path.basename(path)[:-6]\n",
    "    symbol_sub_code = os.path.basename(path)[-9:-6]\n",
    "    symbol_root = os.path.basename(path)[:-9]\n",
    "\n",
    "    # find the corresponding ib_symbol. ib_symbol has the same sub code compared to iqfeed symbol\n",
    "    ib_symbol = \"\".join([ib_symbol_root, symbol_sub_code])\n",
    "    frame.columns = [\"datetime\", \"open\", \"high\", \"low\", \"close\", \"volume\", \"open_interest\"]\n",
    "    datetime_format = '%Y%m%d %H:%M:%S'\n",
    "    frame['datetime'] = pd.to_datetime(frame['datetime'], format=datetime_format)\n",
    "    float_columns = ['open', 'high', 'low', 'close', 'volume', 'open_interest']\n",
    "    for col in float_columns:\n",
    "        frame.loc[:, col] = frame[col].astype('float')\n",
    "    frame.loc[:, \"symbol\"] = ib_symbol\n",
    "    # We should use the open interest of last day to determine the main contract\n",
    "    frame.loc[:, \"last_open_interest\"] = frame.loc[:, \"open_interest\"].shift(1).fillna(0.0) \n",
    "    one_symbol_combined_frame = pd.concat([one_symbol_combined_frame, frame])\n",
    "\n",
    "one_symbol_combined_frame = one_symbol_combined_frame.reset_index(drop=True)\n",
    "one_symbol_combined_frame = one_symbol_combined_frame.sort_values(by=[\"datetime\", \"last_open_interest\", \"open_interest\"], axis=0)\n",
    "one_symbol_combined_frame = one_symbol_combined_frame.drop_duplicates(subset=\"datetime\", keep=\"last\")\n"
   ]
  },
  {
   "cell_type": "code",
   "execution_count": null,
   "metadata": {},
   "outputs": [],
   "source": []
  }
 ],
 "metadata": {
  "kernelspec": {
   "display_name": "Python 3",
   "language": "python",
   "name": "python3"
  },
  "language_info": {
   "codemirror_mode": {
    "name": "ipython",
    "version": 3
   },
   "file_extension": ".py",
   "mimetype": "text/x-python",
   "name": "python",
   "nbconvert_exporter": "python",
   "pygments_lexer": "ipython3",
   "version": "3.7.1"
  }
 },
 "nbformat": 4,
 "nbformat_minor": 4
}
