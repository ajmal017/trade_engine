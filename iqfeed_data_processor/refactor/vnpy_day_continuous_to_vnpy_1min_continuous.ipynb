{
 "cells": [
  {
   "cell_type": "markdown",
   "metadata": {},
   "source": [
    "这个notebook的作用是根据合成的vnpy格式的日线主力连续合约, 生成1分钟线的vnpy格式主力连续合约"
   ]
  },
  {
   "cell_type": "code",
   "execution_count": 71,
   "metadata": {},
   "outputs": [],
   "source": [
    "import glob\n",
    "import os\n",
    "import pandas as pd\n",
    "import matplotlib.pyplot as plt\n",
    "from datetime import datetime, timedelta\n",
    "import time\n",
    "%matplotlib inline"
   ]
  },
  {
   "cell_type": "code",
   "execution_count": 2,
   "metadata": {},
   "outputs": [],
   "source": [
    "day_continuous_frame = pd.read_csv(r\"D:\\data\\vnpy\\future\\day_continuous\\MGC.csv\")\n",
    "day_continuous_frame.loc[:, \"date\"] = pd.to_datetime(day_continuous_frame['date'], format='%Y-%m-%d')\n",
    "day_continuous_frame = day_continuous_frame.sort_values(\"date\")\n",
    "day_continuous_frame.loc[:, \"weekday\"] = day_continuous_frame[\"date\"].apply(lambda x: x.weekday())"
   ]
  },
  {
   "cell_type": "code",
   "execution_count": 7,
   "metadata": {},
   "outputs": [],
   "source": [
    "one_min_data_paths = glob.glob(r\"D:\\data\\vnpy\\future\\1_min\\*.csv\")\n",
    "one_min_data_paths = [path for path in one_min_data_paths if \"MGC\" == os.path.basename(path)[0:3]]\n",
    "one_min_data_paths = sorted(one_min_data_paths)\n",
    "one_min_data_paths = sorted(one_min_data_paths, key=lambda x: x[-6:-4])"
   ]
  },
  {
   "cell_type": "code",
   "execution_count": 16,
   "metadata": {},
   "outputs": [],
   "source": [
    "# 需要找到一周每天的每个合约的开盘时间开始和结束. key是周几,value是开盘时间和收盘时间的一个list\n",
    "# 0是周日\n",
    "mark_open_time = {\n",
    "    0: [[(18, 0, 0), (23, 59, 0)]],\n",
    "    1: [[(0, 0, 0), (17, 0, 0)],\n",
    "        [(0, 18, 0), (23, 59, 0)]],\n",
    "    2: [[(0, 0, 0), (17, 0, 0)],\n",
    "        [(0, 18, 0), (23, 59, 0)]],\n",
    "    3: [[(0, 0, 0), (17, 0, 0)],\n",
    "        [(0, 18, 0), (23, 59, 0)]],\n",
    "    4: [[(0, 0, 0), (17, 0, 0)],\n",
    "        [(0, 18, 0), (23, 59, 0)]],\n",
    "    5: [[(0, 0, 0), (17, 0, 0)]],\n",
    "    6: []\n",
    "}"
   ]
  },
  {
   "cell_type": "code",
   "execution_count": 23,
   "metadata": {},
   "outputs": [],
   "source": []
  },
  {
   "cell_type": "code",
   "execution_count": 56,
   "metadata": {},
   "outputs": [],
   "source": [
    "#读取并且缓存所有的1min frame, key是symbol, value是data frame\n",
    "one_min_data_dict = {}\n",
    "for path in one_min_data_paths:\n",
    "    symbol = os.path.basename(path)[:-4]\n",
    "    frame = pd.read_csv(path)\n",
    "    frame.loc[:, \"datetime\"] = pd.to_datetime(frame['datetime'], format='%Y%m%d %H:%M:%S')\n",
    "    frame = frame.sort_values(\"datetime\")\n",
    "    one_min_data_dict[symbol] = frame"
   ]
  },
  {
   "cell_type": "code",
   "execution_count": 26,
   "metadata": {},
   "outputs": [
    {
     "data": {
      "text/plain": [
       "dict_keys(['MGCZ10', 'MGCG11', 'MGCJ11', 'MGCM11', 'MGCQ11', 'MGCV11', 'MGCZ11', 'MGCG12', 'MGCJ12', 'MGCM12', 'MGCQ12', 'MGCV12', 'MGCZ12', 'MGCG13', 'MGCJ13', 'MGCM13', 'MGCQ13', 'MGCV13', 'MGCZ13', 'MGCG14', 'MGCJ14', 'MGCM14', 'MGCQ14', 'MGCV14', 'MGCZ14', 'MGCG15', 'MGCJ15', 'MGCM15', 'MGCQ15', 'MGCV15', 'MGCZ15', 'MGCG16', 'MGCJ16', 'MGCM16', 'MGCQ16', 'MGCV16', 'MGCZ16', 'MGCG17', 'MGCJ17', 'MGCM17', 'MGCQ17', 'MGCV17', 'MGCZ17', 'MGCG18', 'MGCJ18', 'MGCM18', 'MGCQ18', 'MGCV18', 'MGCZ18', 'MGCG19', 'MGCJ19', 'MGCM19', 'MGCQ19', 'MGCV19', 'MGCZ19', 'MGCG20', 'MGCJ20', 'MGCM20', 'MGCQ20', 'MGCV20', 'MGCZ20'])"
      ]
     },
     "execution_count": 26,
     "metadata": {},
     "output_type": "execute_result"
    }
   ],
   "source": [
    "one_min_data_dict.keys()"
   ]
  },
  {
   "cell_type": "code",
   "execution_count": null,
   "metadata": {},
   "outputs": [
    {
     "name": "stdout",
     "output_type": "stream",
     "text": [
      "process: 0/3015\n",
      "total time used is: 0.08895707130432129\n",
      "process: 50/3015\n",
      "total time used is: 33.87868595123291\n",
      "process: 100/3015\n",
      "total time used is: 68.93140721321106\n",
      "process: 150/3015\n",
      "total time used is: 104.83425807952881\n"
     ]
    }
   ],
   "source": [
    "#先建一个空的1min continuous frame\n",
    "one_min_continuous_frame = pd.DataFrame()\n",
    "#循环day bar frame\n",
    "start_time = time.time()\n",
    "for ix, row in day_continuous_frame.iterrows():\n",
    "    if ix%50 == 0:\n",
    "        print(\"process: {}/{}\".format(ix, len(day_continuous_frame)))\n",
    "        end_time = time.time()\n",
    "        print(\"total time used is: {}\".format(end_time - start_time))\n",
    "\n",
    "    date = row.loc[\"date\"]\n",
    "    weekday = row.loc[\"weekday\"]\n",
    "    weekday_list = mark_open_time[weekday]\n",
    "    # 要找到交易时段的所有每一分钟\n",
    "    for start_end_list in weekday_list:\n",
    "        min_bar_start_time = datetime(date.year,\n",
    "                                      date.month,\n",
    "                                      date.day,\n",
    "                                      start_end_list[0][0],\n",
    "                                      start_end_list[0][1],\n",
    "                                      start_end_list[0][2])\n",
    "        min_bar_end_time = datetime(date.year,\n",
    "                                    date.month,\n",
    "                                    date.day,\n",
    "                                    start_end_list[1][0],\n",
    "                                    start_end_list[1][1],\n",
    "                                    start_end_list[1][2])\n",
    "        # find all one min timestamps between a start time and an end time\n",
    "        one_min_time_range = pd.date_range(min_bar_start_time, min_bar_end_time, freq='min')\n",
    "        # 新建一个one min frame\n",
    "        new_one_min_frame = pd.DataFrame(columns=day_continuous_frame.columns, index=one_min_time_range)\n",
    "        # 先把能填充的基础数据都填充了\n",
    "        symbol = row.loc[\"symbol\"]\n",
    "        # 找到对应的symbol的实际数据frame\n",
    "        symbol_frame = one_min_data_dict[symbol]\n",
    "        # 把symbol data frame 的 index变为找到所有的minute的数据, 其他的数据暂时不要\n",
    "        new_one_min_frame = symbol_frame.set_index(\"datetime\").reindex(new_one_min_frame.index)\n",
    "        new_one_min_frame.loc[:, \"accumulative_adjust\"] = row.loc[\"accumulative_adjust\"]\n",
    "        price_columns = [\"open\", \"high\", \"low\", \"close\", \"volume\"]\n",
    "        new_one_min_frame.loc[:, price_columns] = new_one_min_frame.loc[:, price_columns] - new_one_min_frame.loc[:, \"accumulative_adjust\"]\n",
    "        one_min_continuous_frame = pd.concat([one_min_continuous_frame, new_one_min_frame])\n",
    "end_time = time.time()\n",
    "print(\"total time used is: {}\".format(end_time - start_time))"
   ]
  },
  {
   "cell_type": "code",
   "execution_count": null,
   "metadata": {},
   "outputs": [],
   "source": []
  }
 ],
 "metadata": {
  "kernelspec": {
   "display_name": "Python 3",
   "language": "python",
   "name": "python3"
  },
  "language_info": {
   "codemirror_mode": {
    "name": "ipython",
    "version": 3
   },
   "file_extension": ".py",
   "mimetype": "text/x-python",
   "name": "python",
   "nbconvert_exporter": "python",
   "pygments_lexer": "ipython3",
   "version": "3.7.1"
  }
 },
 "nbformat": 4,
 "nbformat_minor": 4
}
