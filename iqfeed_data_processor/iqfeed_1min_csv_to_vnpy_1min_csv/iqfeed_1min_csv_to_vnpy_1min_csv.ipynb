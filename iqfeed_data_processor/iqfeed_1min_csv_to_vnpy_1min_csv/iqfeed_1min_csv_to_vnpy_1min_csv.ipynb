{
 "cells": [
  {
   "cell_type": "code",
   "execution_count": 7,
   "metadata": {},
   "outputs": [],
   "source": [
    "from vnpy.trader.constant import (Exchange, Interval)\n",
    "import pandas as pd\n",
    "import os\n",
    "import glob\n",
    "import datetime"
   ]
  },
  {
   "cell_type": "code",
   "execution_count": 3,
   "metadata": {},
   "outputs": [],
   "source": [
    "symbol_info_frame = pd.read_csv(r\"E:\\project\\trade_engine\\iqfeed_data_processor\\futures_to_import.csv\")"
   ]
  },
  {
   "cell_type": "code",
   "execution_count": 8,
   "metadata": {},
   "outputs": [],
   "source": [
    "iqfeed_1min_data_folder = r\"D:\\data\\iqfeed\\future\\future_data_1min_iqfeed\"\n",
    "vnpy_1min_data_folder = r\"D:\\data\\iqfeed\\future\\future_data_1min_vnpy\""
   ]
  },
  {
   "cell_type": "code",
   "execution_count": 6,
   "metadata": {},
   "outputs": [],
   "source": [
    "iqfeed_data_path_list = glob.glob(os.path.join(iqfeed_1min_data_folder, \"*.csv\"))"
   ]
  },
  {
   "cell_type": "code",
   "execution_count": 11,
   "metadata": {},
   "outputs": [],
   "source": [
    "__YEARS__ = [\"06\", \"07\", \"08\", \"09\", \"10\", \"11\", \"12\", \"13\", \"14\", \"15\", \"16\", \"17\", \"18\", \"19\", \"20\"]\n",
    "__MONTH_CODES__ = [\"F\", \"G\", \"H\", \"J\", \"K\", \"M\", \"N\", \"Q\", \"U\", \"V\", \"X\", \"Z\"]\n",
    "\n",
    "for ix, row in symbol_info_frame.iterrows():\n",
    "    symbol_root = row.loc[\"symbol_roots\"]\n",
    "    symbol_ib_root = row.loc[\"symbol_ib_roots\"]\n",
    "    exchange = row.loc[\"symbol_exchange\"]\n",
    "    for year in __YEARS__:\n",
    "        for month_code in __MONTH_CODES__:\n",
    "            symbol = \"\".join([symbol_root, month_code, year])\n",
    "            symbol_csv_string = \"\".join([symbol, \"_1.csv\"])\n",
    "            symbol_csv_path = os.path.join(iqfeed_1min_data_folder, symbol_csv_string)\n",
    "            ib_symbol = \"\".join([symbol_ib_root, month_code, year])\n",
    "            if symbol_csv_path in iqfeed_data_path_list:\n",
    "                imported_data = pd.read_csv(symbol_csv_path)\n",
    "                imported_data.columns = [\"datetime\", \"open\", \"high\", \"low\", \"close\", \"volume\"]\n",
    "                imported_data.loc[:, \"exchange\"] = Exchange(exchange)\n",
    "                imported_data.loc[:, \"open_interest\"] = 0.0\n",
    "                imported_data.loc[:, \"interval\"] = Interval.MINUTE\n",
    "                imported_data.loc[:, \"symbol\"] = ib_symbol\n",
    "                datetime_format = '%Y%m%d %H:%M:%S'\n",
    "                imported_data['datetime'] = pd.to_datetime(imported_data['datetime'], format=datetime_format)\n",
    "                float_columns = ['open', 'high', 'low', 'close', 'volume', 'open_interest']\n",
    "                for col in float_columns:\n",
    "                    imported_data.loc[:, col] = imported_data[col].astype('float')\n",
    "                imported_data.to_csv(os.path.join(vnpy_1min_data_folder, ib_symbol + \".csv\"), index=False)"
   ]
  },
  {
   "cell_type": "code",
   "execution_count": null,
   "metadata": {},
   "outputs": [],
   "source": []
  }
 ],
 "metadata": {
  "kernelspec": {
   "display_name": "Python 3",
   "language": "python",
   "name": "python3"
  },
  "language_info": {
   "codemirror_mode": {
    "name": "ipython",
    "version": 3
   },
   "file_extension": ".py",
   "mimetype": "text/x-python",
   "name": "python",
   "nbconvert_exporter": "python",
   "pygments_lexer": "ipython3",
   "version": "3.7.1"
  }
 },
 "nbformat": 4,
 "nbformat_minor": 4
}
