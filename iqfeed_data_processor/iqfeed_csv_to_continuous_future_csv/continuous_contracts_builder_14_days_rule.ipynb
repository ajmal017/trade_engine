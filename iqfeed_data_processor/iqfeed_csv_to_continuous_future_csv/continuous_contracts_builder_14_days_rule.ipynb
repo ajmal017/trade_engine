{
 "cells": [
  {
   "cell_type": "markdown",
   "metadata": {},
   "source": [
    "This note book is to do experiment on building continuous contracts based on rule: 14 days before each expiration of single contract"
   ]
  },
  {
   "cell_type": "code",
   "execution_count": 72,
   "metadata": {},
   "outputs": [],
   "source": [
    "import glob\n",
    "import os\n",
    "import pandas as pd\n",
    "import matplotlib.pyplot as plt\n",
    "from datetime import datetime, timedelta\n",
    "%matplotlib inline"
   ]
  },
  {
   "cell_type": "code",
   "execution_count": 2,
   "metadata": {},
   "outputs": [],
   "source": [
    "# Symbol info frame defines symbols representations in iqfeed and ib, separately.\n",
    "symbol_info_frame = pd.read_csv(r\"E:\\project\\trade_engine\\iqfeed_data_processor\\futures_to_import.csv\")"
   ]
  },
  {
   "cell_type": "code",
   "execution_count": 3,
   "metadata": {},
   "outputs": [],
   "source": [
    "# Use glob to find out all the day bar data files in the folder defined\n",
    "day_bar_data_folder = r\"D:\\data\\iqfeed\\future\\future_data_day_synthesis\"\n",
    "day_bar_data_path_list = glob.glob(os.path.join(day_bar_data_folder, \"*.csv\"))\n",
    "\n",
    "# According to data paths, derived the corresponding iqfeed symbols roots.\n",
    "# Symbols containing # means it is continuous future, and I do not want to use the continuous future that IB provides\n",
    "iqfeed_symbol_list = [os.path.basename(path)[:-8] for path in day_bar_data_path_list if \"#\"not in path]\n",
    "iqfeed_symbol_root_list = [symbol[:-1] for symbol in iqfeed_symbol_list]\n",
    "iqfeed_symbol_root_list = list(set(iqfeed_symbol_root_list))"
   ]
  },
  {
   "cell_type": "code",
   "execution_count": 4,
   "metadata": {},
   "outputs": [
    {
     "data": {
      "text/plain": [
       "22"
      ]
     },
     "execution_count": 4,
     "metadata": {},
     "output_type": "execute_result"
    }
   ],
   "source": [
    "len(iqfeed_symbol_root_list)"
   ]
  },
  {
   "cell_type": "code",
   "execution_count": 5,
   "metadata": {},
   "outputs": [
    {
     "data": {
      "text/plain": [
       "['@M2K',\n",
       " 'IHO',\n",
       " '@MNQ',\n",
       " '@KC',\n",
       " '@DA',\n",
       " '@YC',\n",
       " '@MYM',\n",
       " '@ES',\n",
       " '@OJ',\n",
       " '@QG',\n",
       " '@QO',\n",
       " '@MES',\n",
       " 'QMGC',\n",
       " '@NQ',\n",
       " '@QM',\n",
       " '@YM',\n",
       " '@CT',\n",
       " '@SB',\n",
       " '@RTY',\n",
       " 'QGC',\n",
       " '@QC',\n",
       " '@CC']"
      ]
     },
     "execution_count": 5,
     "metadata": {},
     "output_type": "execute_result"
    }
   ],
   "source": [
    "iqfeed_symbol_root_list"
   ]
  },
  {
   "cell_type": "code",
   "execution_count": 6,
   "metadata": {},
   "outputs": [],
   "source": [
    "frame = pd.read_csv(r\"D:\\data\\iqfeed\\future\\future_data_day_synthesis\\@CCH10_1.csv\")"
   ]
  },
  {
   "cell_type": "code",
   "execution_count": 7,
   "metadata": {},
   "outputs": [],
   "source": [
    "frame = frame.loc[:, ['date', 'open', 'high', 'low', 'close', 'volume']]"
   ]
  },
  {
   "cell_type": "code",
   "execution_count": 77,
   "metadata": {},
   "outputs": [],
   "source": [
    "for symbol_root in iqfeed_symbol_root_list:\n",
    "\n",
    "    # According to symbol info frame, figure out the ib symbol root from iqfeed symbol root\n",
    "    ib_symbol_root = symbol_info_frame[symbol_info_frame[\"symbol_roots\"] == symbol_root].loc[:,\"symbol_ib_roots\"].iloc[0]\n",
    "\n",
    "    # Find out all the data path that is under curerent iqfeed symbol root\n",
    "    current_path_list = [path for path in day_bar_data_path_list if (symbol_root in path and \"#\" not in path)]\n",
    "\n",
    "    # combine all of the sub symbols frames into one frame\n",
    "    combined_frame = pd.DataFrame()\n",
    "\n",
    "    for path in current_path_list:\n",
    "        frame = pd.read_csv(path)\n",
    "        frame = frame.loc[:, ['date', 'open', 'high', 'low', 'close', 'volume']]\n",
    "\n",
    "        # According to iqfeed day bar data path string, figure out the iqfeed symbol root\n",
    "        symbol_time_code = os.path.basename(path)[-9:-6]\n",
    "        ib_symbol = \"\".join([ib_symbol_root, symbol_time_code])\n",
    "        frame.loc[:, \"symbol\"] = ib_symbol\n",
    "\n",
    "        # Change date time format to python datetime\n",
    "        datetime_format = '%Y-%m-%d'\n",
    "        frame['date'] = pd.to_datetime(frame['date'], format=datetime_format)\n",
    "\n",
    "        # Make sure all data columns are floats\n",
    "        float_columns = ['open', 'high', 'low', 'close', 'volume']\n",
    "        for col in float_columns:\n",
    "            frame.loc[:, col] = frame[col].astype('float')\n",
    "\n",
    "        # Add a column indicating how many days remained for this future contract\n",
    "        frame.loc[:, \"remain_days\"] = frame.index[::-1] \n",
    "\n",
    "        # there has to be at least more than 100 days to be included into main contract.\n",
    "        if len(frame) > 100:\n",
    "            combined_frame = pd.concat([combined_frame, frame])\n",
    "\n",
    "    # we will roll contracts 14 days before expiration of each sub future.\n",
    "    # Here I find out 14 days before expiration of each sub contract\n",
    "    contracts_roll_info_frame = combined_frame[combined_frame.loc[:,\"remain_days\"] == 14].loc[:, [\"symbol\", \"date\"]]\n",
    "    contracts_roll_info_frame = contracts_roll_info_frame.sort_values(\"date\")\n",
    "    contracts_roll_info_frame = contracts_roll_info_frame.reset_index()\n",
    "\n",
    "    # Remove latest contracts because I do not know which one to use just according to csv file\n",
    "    do_not_consider_time = datetime.now() - timedelta(days=60)\n",
    "    contracts_roll_info_frame = contracts_roll_info_frame[contracts_roll_info_frame[\"date\"] < do_not_consider_time]\n",
    "    \n",
    "    # Build a continuous future frame\n",
    "    continuous_future_frame = pd.DataFrame()\n",
    "\n",
    "    # Variables to be used for contracts calculation\n",
    "    # Logic is based on link: https://zhuanlan.zhihu.com/p/51880559\n",
    "    previous_contract_close = 0\n",
    "    current_contract_open = 0\n",
    "    accumulative_ratio = 1.0\n",
    "\n",
    "    # Iterate through contracts roll info frame, and insert data to the continuous contract\n",
    "    for index, row in contracts_roll_info_frame.iterrows():\n",
    "        # do no insert data for the first row, since I do not know in which day I should start the first contract\n",
    "        if index > 0:\n",
    "\n",
    "            # Get data for the corresponding symbol, according to start and end date\n",
    "            start_date = contracts_roll_info_frame.loc[index-1, \"date\"]\n",
    "            end_date = contracts_roll_info_frame.loc[index,\"date\"]\n",
    "            symbol = row.loc[\"symbol\"]\n",
    "            current_frame = combined_frame[combined_frame[\"symbol\"] == symbol]\n",
    "            current_frame = current_frame[current_frame[\"date\"] >= start_date]\n",
    "            current_frame = current_frame[current_frame[\"date\"] < end_date]\n",
    "\n",
    "            # Here I calculate late a column called multiply ratio. logic based on https://zhuanlan.zhihu.com/p/51880559\n",
    "            if index == 1:\n",
    "                current_frame.loc[:, \"multiply_ratio\"] = 1.0\n",
    "                accumulative_ratio = 1.0\n",
    "                previous_contract_close = current_frame.iloc[len(current_frame)-1,:][\"close\"]\n",
    "            else:\n",
    "                current_contract_open = current_frame.iloc[0,:][\"open\"]\n",
    "                current_ratio = current_contract_open/previous_contract_close\n",
    "                accumulative_ratio = accumulative_ratio * current_ratio\n",
    "                current_frame.loc[:, \"multiply_ratio\"] = accumulative_ratio\n",
    "                previous_contract_close = current_frame.iloc[len(current_frame)-1,:][\"close\"]\n",
    "                # Multiply the accumulative ratio to the data \n",
    "                for column in ['open', 'high', 'low', 'close']:\n",
    "                    current_frame.loc[:, column] = current_frame.loc[:, column] / accumulative_ratio\n",
    "\n",
    "\n",
    "            continuous_future_frame = pd.concat([continuous_future_frame, current_frame])\n",
    "\n",
    "    continuous_future_frame = continuous_future_frame.round({'open': 4, 'high': 4, 'low': 4, 'close': 4, 'multiply_ratio': 6})\n",
    "    continuous_future_frame.to_csv(ib_symbol_root + \".csv\", index=False)"
   ]
  },
  {
   "cell_type": "code",
   "execution_count": null,
   "metadata": {},
   "outputs": [],
   "source": []
  },
  {
   "cell_type": "code",
   "execution_count": null,
   "metadata": {},
   "outputs": [],
   "source": []
  }
 ],
 "metadata": {
  "kernelspec": {
   "display_name": "Python 3",
   "language": "python",
   "name": "python3"
  },
  "language_info": {
   "codemirror_mode": {
    "name": "ipython",
    "version": 3
   },
   "file_extension": ".py",
   "mimetype": "text/x-python",
   "name": "python",
   "nbconvert_exporter": "python",
   "pygments_lexer": "ipython3",
   "version": "3.7.1"
  }
 },
 "nbformat": 4,
 "nbformat_minor": 4
}
