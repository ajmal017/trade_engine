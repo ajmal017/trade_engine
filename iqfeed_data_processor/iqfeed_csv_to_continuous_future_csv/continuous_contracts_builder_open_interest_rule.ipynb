{
 "cells": [
  {
   "cell_type": "markdown",
   "metadata": {},
   "source": [
    "This note book is to do experiment on building main contracts based on open interest"
   ]
  },
  {
   "cell_type": "markdown",
   "metadata": {},
   "source": [
    "# Check day bar data for all the symbol roots"
   ]
  },
  {
   "cell_type": "code",
   "execution_count": 1,
   "metadata": {},
   "outputs": [],
   "source": [
    "import glob\n",
    "import os"
   ]
  },
  {
   "cell_type": "code",
   "execution_count": 2,
   "metadata": {},
   "outputs": [],
   "source": [
    "data_folder_path = r\"D:\\data\\iqfeed\\future\\future_data_day\""
   ]
  },
  {
   "cell_type": "code",
   "execution_count": 3,
   "metadata": {},
   "outputs": [],
   "source": [
    "data_path_list = glob.glob(os.path.join(data_folder_path, \"*.csv\"))"
   ]
  },
  {
   "cell_type": "code",
   "execution_count": 4,
   "metadata": {},
   "outputs": [],
   "source": [
    "iqfeed_symbol_list = [os.path.basename(path)[:-8] for path in data_path_list if \"#\"not in path]"
   ]
  },
  {
   "cell_type": "code",
   "execution_count": 5,
   "metadata": {},
   "outputs": [],
   "source": [
    "iqfeed_symbol_root_list = [symbol[:-1] for symbol in iqfeed_symbol_list]"
   ]
  },
  {
   "cell_type": "code",
   "execution_count": 6,
   "metadata": {},
   "outputs": [],
   "source": [
    "iqfeed_symbol_root_list = list(set(iqfeed_symbol_root_list))"
   ]
  },
  {
   "cell_type": "code",
   "execution_count": 7,
   "metadata": {},
   "outputs": [
    {
     "data": {
      "text/plain": [
       "['@CC',\n",
       " '@SB',\n",
       " '@ES',\n",
       " '@YC',\n",
       " '@QM',\n",
       " 'IHO',\n",
       " '@DA',\n",
       " '@QG',\n",
       " '@OJ',\n",
       " '@QO',\n",
       " '@MES',\n",
       " 'QGC',\n",
       " 'QMGC',\n",
       " '@KC',\n",
       " '@MYM',\n",
       " '@NQ',\n",
       " '@RTY',\n",
       " '@M2K',\n",
       " '@YM',\n",
       " '@QC',\n",
       " '@MNQ',\n",
       " '@CT']"
      ]
     },
     "execution_count": 7,
     "metadata": {},
     "output_type": "execute_result"
    }
   ],
   "source": [
    "iqfeed_symbol_root_list"
   ]
  },
  {
   "cell_type": "markdown",
   "metadata": {},
   "source": [
    "# check missing data for day bar"
   ]
  },
  {
   "cell_type": "code",
   "execution_count": 8,
   "metadata": {},
   "outputs": [],
   "source": [
    "import pandas as pd\n",
    "symbol_meta_frame = pd.read_csv(r\"E:\\project\\trade_engine\\iqfeed_data_processor\\futures_to_import.csv\")"
   ]
  },
  {
   "cell_type": "code",
   "execution_count": 9,
   "metadata": {},
   "outputs": [],
   "source": [
    "all_symbols_list = symbol_meta_frame.loc[:, \"symbol_roots\"].tolist()"
   ]
  },
  {
   "cell_type": "code",
   "execution_count": 10,
   "metadata": {},
   "outputs": [
    {
     "data": {
      "text/plain": [
       "['@CL']"
      ]
     },
     "execution_count": 10,
     "metadata": {},
     "output_type": "execute_result"
    }
   ],
   "source": [
    "[a for a in all_symbols_list if a not in iqfeed_symbol_root_list]"
   ]
  },
  {
   "cell_type": "code",
   "execution_count": 11,
   "metadata": {},
   "outputs": [
    {
     "data": {
      "text/plain": [
       "[]"
      ]
     },
     "execution_count": 11,
     "metadata": {},
     "output_type": "execute_result"
    }
   ],
   "source": [
    "[a for a in iqfeed_symbol_root_list if a not in all_symbols_list]"
   ]
  },
  {
   "cell_type": "code",
   "execution_count": 190,
   "metadata": {},
   "outputs": [
    {
     "name": "stdout",
     "output_type": "stream",
     "text": [
      "@CT\n",
      "@KC\n",
      "@YC\n",
      "@MES\n",
      "@QM\n",
      "@NQ\n",
      "@QO\n",
      "@ES\n",
      "@QG\n",
      "@M2K\n",
      "QGC\n",
      "@DA\n",
      "@CC\n",
      "@QC\n",
      "@MNQ\n",
      "@OJ\n",
      "IHO\n",
      "@RTY\n",
      "@MYM\n",
      "@SB\n",
      "@YM\n",
      "QMGC\n"
     ]
    }
   ],
   "source": [
    "for symbol_root in iqfeed_symbol_root_list:\n",
    "    print(symbol_root)\n",
    "    # According to symbol meta frame, figure out the ib symbol root\n",
    "    ib_symbol_root = symbol_meta_frame[symbol_meta_frame[\"symbol_roots\"] == symbol_root].loc[:,\"symbol_ib_roots\"].iloc[0]\n",
    "    symbols_path_list = [path for path in data_path_list if (symbol_root in path and \"#\" not in path)]\n",
    "    # combine all of the sub symbols frames into one frame\n",
    "    one_symbol_combined_frame = pd.DataFrame()\n",
    "    for path in symbols_path_list:\n",
    "        frame = pd.read_csv(path)\n",
    "\n",
    "        # According to iqfeed day bar data path string, figure out the iqfeed symbol root\n",
    "        symbol = os.path.basename(path)[:-6]\n",
    "        symbol_sub_code = os.path.basename(path)[-9:-6]\n",
    "        symbol_root = os.path.basename(path)[:-9]\n",
    "\n",
    "        # find the corresponding ib_symbol. ib_symbol has the same sub code compared to iqfeed symbol\n",
    "        ib_symbol = \"\".join([ib_symbol_root, symbol_sub_code])\n",
    "        frame.columns = [\"datetime\", \"open\", \"high\", \"low\", \"close\", \"volume\", \"open_interest\"]\n",
    "        datetime_format = '%Y%m%d %H:%M:%S'\n",
    "        frame['datetime'] = pd.to_datetime(frame['datetime'], format=datetime_format)\n",
    "        float_columns = ['open', 'high', 'low', 'close', 'volume', 'open_interest']\n",
    "        for col in float_columns:\n",
    "            frame.loc[:, col] = frame[col].astype('float')\n",
    "        frame.loc[:, \"symbol\"] = ib_symbol\n",
    "        # We should use the open interest of last day to determine the main contract\n",
    "        frame.loc[:, \"last_open_interest\"] = frame.loc[:, \"open_interest\"].shift(1).fillna(0.0) \n",
    "        one_symbol_combined_frame = pd.concat([one_symbol_combined_frame, frame])\n",
    "\n",
    "    one_symbol_combined_frame = one_symbol_combined_frame.reset_index(drop=True)\n",
    "    one_symbol_combined_frame = one_symbol_combined_frame.sort_values(by=[\"datetime\", \"last_open_interest\", \"open_interest\"], axis=0)\n",
    "    one_symbol_combined_frame = one_symbol_combined_frame.drop_duplicates(subset=\"datetime\", keep=\"last\")\n",
    "\n",
    "    one_symbol_combined_frame.to_csv(ib_symbol_root + \".csv\", index=False)"
   ]
  },
  {
   "cell_type": "code",
   "execution_count": 12,
   "metadata": {},
   "outputs": [
    {
     "name": "stdout",
     "output_type": "stream",
     "text": [
      "@SB\n"
     ]
    }
   ],
   "source": [
    "symbol_root = \"@SB\"\n",
    "print(symbol_root)\n",
    "# According to symbol meta frame, figure out the ib symbol root\n",
    "ib_symbol_root = symbol_meta_frame[symbol_meta_frame[\"symbol_roots\"] == symbol_root].loc[:,\"symbol_ib_roots\"].iloc[0]\n",
    "symbols_path_list = [path for path in data_path_list if (symbol_root in path and \"#\" not in path)]\n",
    "# combine all of the sub symbols frames into one frame\n",
    "one_symbol_combined_frame = pd.DataFrame()\n",
    "for path in symbols_path_list:\n",
    "    frame = pd.read_csv(path)\n",
    "\n",
    "    # According to iqfeed day bar data path string, figure out the iqfeed symbol root\n",
    "    symbol = os.path.basename(path)[:-6]\n",
    "    symbol_sub_code = os.path.basename(path)[-9:-6]\n",
    "    symbol_root = os.path.basename(path)[:-9]\n",
    "\n",
    "    # find the corresponding ib_symbol. ib_symbol has the same sub code compared to iqfeed symbol\n",
    "    ib_symbol = \"\".join([ib_symbol_root, symbol_sub_code])\n",
    "    frame.columns = [\"datetime\", \"open\", \"high\", \"low\", \"close\", \"volume\", \"open_interest\"]\n",
    "    datetime_format = '%Y%m%d %H:%M:%S'\n",
    "    frame['datetime'] = pd.to_datetime(frame['datetime'], format=datetime_format)\n",
    "    float_columns = ['open', 'high', 'low', 'close', 'volume', 'open_interest']\n",
    "    for col in float_columns:\n",
    "        frame.loc[:, col] = frame[col].astype('float')\n",
    "    frame.loc[:, \"symbol\"] = ib_symbol\n",
    "    # We should use the open interest of last day to determine the main contract\n",
    "    frame.loc[:, \"last_open_interest\"] = frame.loc[:, \"open_interest\"].shift(1).fillna(0.0) \n",
    "    one_symbol_combined_frame = pd.concat([one_symbol_combined_frame, frame])\n",
    "\n",
    "one_symbol_combined_frame = one_symbol_combined_frame.reset_index(drop=True)\n",
    "one_symbol_combined_frame = one_symbol_combined_frame.sort_values(by=[\"datetime\", \"last_open_interest\", \"open_interest\"], axis=0)\n",
    "one_symbol_combined_frame = one_symbol_combined_frame.drop_duplicates(subset=\"datetime\", keep=\"last\")\n"
   ]
  },
  {
   "cell_type": "code",
   "execution_count": 30,
   "metadata": {},
   "outputs": [
    {
     "data": {
      "text/html": [
       "<div>\n",
       "<style scoped>\n",
       "    .dataframe tbody tr th:only-of-type {\n",
       "        vertical-align: middle;\n",
       "    }\n",
       "\n",
       "    .dataframe tbody tr th {\n",
       "        vertical-align: top;\n",
       "    }\n",
       "\n",
       "    .dataframe thead th {\n",
       "        text-align: right;\n",
       "    }\n",
       "</style>\n",
       "<table border=\"1\" class=\"dataframe\">\n",
       "  <thead>\n",
       "    <tr style=\"text-align: right;\">\n",
       "      <th></th>\n",
       "      <th>datetime</th>\n",
       "      <th>open</th>\n",
       "      <th>high</th>\n",
       "      <th>low</th>\n",
       "      <th>close</th>\n",
       "      <th>volume</th>\n",
       "      <th>open_interest</th>\n",
       "      <th>symbol</th>\n",
       "      <th>last_open_interest</th>\n",
       "    </tr>\n",
       "  </thead>\n",
       "  <tbody>\n",
       "    <tr>\n",
       "      <th>828</th>\n",
       "      <td>2006-01-03</td>\n",
       "      <td>14.65</td>\n",
       "      <td>14.67</td>\n",
       "      <td>14.00</td>\n",
       "      <td>14.18</td>\n",
       "      <td>40010.0</td>\n",
       "      <td>279561.0</td>\n",
       "      <td>SBH06</td>\n",
       "      <td>0.0</td>\n",
       "    </tr>\n",
       "    <tr>\n",
       "      <th>829</th>\n",
       "      <td>2006-01-04</td>\n",
       "      <td>14.35</td>\n",
       "      <td>14.90</td>\n",
       "      <td>14.35</td>\n",
       "      <td>14.87</td>\n",
       "      <td>35040.0</td>\n",
       "      <td>280845.0</td>\n",
       "      <td>SBH06</td>\n",
       "      <td>279561.0</td>\n",
       "    </tr>\n",
       "    <tr>\n",
       "      <th>830</th>\n",
       "      <td>2006-01-05</td>\n",
       "      <td>14.95</td>\n",
       "      <td>15.17</td>\n",
       "      <td>14.70</td>\n",
       "      <td>14.85</td>\n",
       "      <td>29564.0</td>\n",
       "      <td>276754.0</td>\n",
       "      <td>SBH06</td>\n",
       "      <td>280845.0</td>\n",
       "    </tr>\n",
       "    <tr>\n",
       "      <th>831</th>\n",
       "      <td>2006-01-06</td>\n",
       "      <td>14.90</td>\n",
       "      <td>15.10</td>\n",
       "      <td>14.82</td>\n",
       "      <td>14.88</td>\n",
       "      <td>28222.0</td>\n",
       "      <td>271202.0</td>\n",
       "      <td>SBH06</td>\n",
       "      <td>276754.0</td>\n",
       "    </tr>\n",
       "    <tr>\n",
       "      <th>832</th>\n",
       "      <td>2006-01-09</td>\n",
       "      <td>14.80</td>\n",
       "      <td>14.89</td>\n",
       "      <td>14.55</td>\n",
       "      <td>14.60</td>\n",
       "      <td>26003.0</td>\n",
       "      <td>269602.0</td>\n",
       "      <td>SBH06</td>\n",
       "      <td>271202.0</td>\n",
       "    </tr>\n",
       "  </tbody>\n",
       "</table>\n",
       "</div>"
      ],
      "text/plain": [
       "      datetime   open   high    low  close   volume  open_interest symbol  \\\n",
       "828 2006-01-03  14.65  14.67  14.00  14.18  40010.0       279561.0  SBH06   \n",
       "829 2006-01-04  14.35  14.90  14.35  14.87  35040.0       280845.0  SBH06   \n",
       "830 2006-01-05  14.95  15.17  14.70  14.85  29564.0       276754.0  SBH06   \n",
       "831 2006-01-06  14.90  15.10  14.82  14.88  28222.0       271202.0  SBH06   \n",
       "832 2006-01-09  14.80  14.89  14.55  14.60  26003.0       269602.0  SBH06   \n",
       "\n",
       "     last_open_interest  \n",
       "828                 0.0  \n",
       "829            279561.0  \n",
       "830            280845.0  \n",
       "831            276754.0  \n",
       "832            271202.0  "
      ]
     },
     "execution_count": 30,
     "metadata": {},
     "output_type": "execute_result"
    }
   ],
   "source": [
    "one_symbol_combined_frame.head()"
   ]
  },
  {
   "cell_type": "code",
   "execution_count": null,
   "metadata": {},
   "outputs": [],
   "source": []
  }
 ],
 "metadata": {
  "kernelspec": {
   "display_name": "Python 3",
   "language": "python",
   "name": "python3"
  },
  "language_info": {
   "codemirror_mode": {
    "name": "ipython",
    "version": 3
   },
   "file_extension": ".py",
   "mimetype": "text/x-python",
   "name": "python",
   "nbconvert_exporter": "python",
   "pygments_lexer": "ipython3",
   "version": "3.7.1"
  }
 },
 "nbformat": 4,
 "nbformat_minor": 4
}
